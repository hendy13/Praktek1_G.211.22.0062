{
  "nbformat": 4,
  "nbformat_minor": 0,
  "metadata": {
    "colab": {
      "provenance": [],
      "authorship_tag": "ABX9TyNhP09QpyppXYtnHSaW1Bad",
      "include_colab_link": true
    },
    "kernelspec": {
      "name": "python3",
      "display_name": "Python 3"
    },
    "language_info": {
      "name": "python"
    }
  },
  "cells": [
    {
      "cell_type": "markdown",
      "metadata": {
        "id": "view-in-github",
        "colab_type": "text"
      },
      "source": [
        "<a href=\"https://colab.research.google.com/github/hendy13/Praktek1_G.211.22.0062/blob/main/Sort1.ipynb\" target=\"_parent\"><img src=\"https://colab.research.google.com/assets/colab-badge.svg\" alt=\"Open In Colab\"/></a>"
      ]
    },
    {
      "cell_type": "markdown",
      "source": [
        "bubble sort"
      ],
      "metadata": {
        "id": "y0o-q7eXQXbX"
      }
    },
    {
      "cell_type": "code",
      "execution_count": 9,
      "metadata": {
        "colab": {
          "base_uri": "https://localhost:8080/"
        },
        "id": "9H973mOXODVz",
        "outputId": "792561a5-2940-47b7-987f-1e185055c542"
      },
      "outputs": [
        {
          "output_type": "stream",
          "name": "stdout",
          "text": [
            "Sorted array is:\n",
            " 11  12  22  25  34  64  90 "
          ]
        }
      ],
      "source": [
        "def bubbleSort(arr):\n",
        "    n = len(arr)\n",
        "    swapped = False\n",
        "\n",
        "    for i in range(n-1):\n",
        "        for j in range(0, n-i-1):\n",
        "            if arr[j] > arr[j + 1]:\n",
        "               swapped = True\n",
        "               arr[j], arr[j + 1] = arr[j + 1], arr[j]\n",
        "\n",
        "\n",
        "# Driver code to test above\n",
        "arr = [64, 34, 25, 12, 22, 11, 90]\n",
        "\n",
        "bubbleSort(arr)\n",
        "\n",
        "print(\"Sorted array is:\")\n",
        "for i in range(len(arr)):\n",
        "    print(\"% d\" % arr[i], end=\" \")"
      ]
    },
    {
      "cell_type": "markdown",
      "source": [
        "selection sort"
      ],
      "metadata": {
        "id": "F0wxRBvrQTb0"
      }
    },
    {
      "cell_type": "code",
      "source": [
        "import sys\n",
        "A = [64, 25, 12, 22, 11]\n",
        "\n",
        "for i in range(len(A)):\n",
        "    min_idx = i\n",
        "    for j in range(i+1, len(A)):\n",
        "        if A[min_idx] > A[j]:\n",
        "             min_idx = j\n",
        "\n",
        "        A[i], A[min_idx] = A[min_idx], A[i]\n",
        "print (\"Sorted array\")\n",
        "for i in range(len(A)):\n",
        "    print(\"%d\" %A[i],end=\" \")"
      ],
      "metadata": {
        "colab": {
          "base_uri": "https://localhost:8080/"
        },
        "id": "R3Uhz4xLPqAz",
        "outputId": "410b3540-5787-41d0-8d78-e7574b3aa0c1"
      },
      "execution_count": 8,
      "outputs": [
        {
          "output_type": "stream",
          "name": "stdout",
          "text": [
            "Sorted array\n",
            "11 22 12 25 64 "
          ]
        }
      ]
    },
    {
      "cell_type": "markdown",
      "source": [
        "insertion sort"
      ],
      "metadata": {
        "id": "Ep4bMVSlQP6o"
      }
    },
    {
      "cell_type": "code",
      "source": [
        "def insertionSort(arr):\n",
        "\n",
        "       for i in range(1, len(arr)):\n",
        "         key = arr[i]\n",
        "         j = i-1\n",
        "       while j >= 0 and key < arr[j] :\n",
        "         arr[j + 1] = arr[j]\n",
        "         j -= 1\n",
        "       arr[j + 1] = key\n",
        "# Driver code to test above\n",
        "arr = [12, 11, 13, 5, 6]\n",
        "insertionSort(arr)\n",
        "for i in range(len(arr)):\n",
        "    print (\"% d\" % arr[i])"
      ],
      "metadata": {
        "colab": {
          "base_uri": "https://localhost:8080/"
        },
        "id": "djtbvtcyP-eU",
        "outputId": "ffbf0254-6d13-4c48-ba4a-fc3be5fc909a"
      },
      "execution_count": 10,
      "outputs": [
        {
          "output_type": "stream",
          "name": "stdout",
          "text": [
            " 12\n",
            " 11\n",
            " 13\n",
            " 5\n",
            " 6\n"
          ]
        }
      ]
    }
  ]
}