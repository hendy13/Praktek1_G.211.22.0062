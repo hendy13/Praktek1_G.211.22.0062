{
  "nbformat": 4,
  "nbformat_minor": 0,
  "metadata": {
    "colab": {
      "provenance": [],
      "authorship_tag": "ABX9TyPUzYqZwNv8/4Uf8yWdjCNq",
      "include_colab_link": true
    },
    "kernelspec": {
      "name": "python3",
      "display_name": "Python 3"
    },
    "language_info": {
      "name": "python"
    }
  },
  "cells": [
    {
      "cell_type": "markdown",
      "metadata": {
        "id": "view-in-github",
        "colab_type": "text"
      },
      "source": [
        "<a href=\"https://colab.research.google.com/github/hendy13/Praktek1_G.211.22.0062/blob/main/Graph_G_211_22_0062.ipynb\" target=\"_parent\"><img src=\"https://colab.research.google.com/assets/colab-badge.svg\" alt=\"Open In Colab\"/></a>"
      ]
    },
    {
      "cell_type": "markdown",
      "source": [
        "m Coloring Problem"
      ],
      "metadata": {
        "id": "83RyLK905D72"
      }
    },
    {
      "cell_type": "code",
      "execution_count": 6,
      "metadata": {
        "colab": {
          "base_uri": "https://localhost:8080/"
        },
        "id": "SEMP_kOI4WqX",
        "outputId": "9bb23614-1649-4468-f80c-e914627c6c56"
      },
      "outputs": [
        {
          "output_type": "stream",
          "name": "stdout",
          "text": [
            "Solution 1: [1, 2, 3, 2]\n"
          ]
        }
      ],
      "source": [
        "class Graph:\n",
        "    def __init__(self, vertices):\n",
        "        self.vertices = vertices\n",
        "        self.graph = [[0 for _ in range(vertices)] for _ in range(vertices)]\n",
        "\n",
        "    def is_safe(self, v, c, color, result):\n",
        "        for i in range(self.vertices):\n",
        "            if self.graph[v][i] == 1 and color[i] == c:\n",
        "                return False\n",
        "        return True\n",
        "\n",
        "    def graph_coloring_util(self, m, color, v, result):\n",
        "        if v == self.vertices:\n",
        "            result.append(color[:])\n",
        "            return True\n",
        "\n",
        "        for c in range(1, m + 1):\n",
        "            if self.is_safe(v, c, color, result):\n",
        "                color[v] = c\n",
        "                if self.graph_coloring_util(m, color, v + 1, result):\n",
        "                    return True\n",
        "                color[v] = 0\n",
        "\n",
        "    def graph_coloring(self, m):\n",
        "        color = [0] * self.vertices\n",
        "        result = []\n",
        "        if not self.graph_coloring_util(m, color, 0, result):\n",
        "            print(\"Solution does not exist.\")\n",
        "            return\n",
        "        return result\n",
        "\n",
        "\n",
        "# Contoh penggunaan\n",
        "g = Graph(4)\n",
        "g.graph = [\n",
        "    [0, 1, 1, 1],\n",
        "    [1, 0, 1, 0],\n",
        "    [1, 1, 0, 1],\n",
        "    [1, 0, 1, 0]\n",
        "]\n",
        "\n",
        "m = 4  # Jumlah warna yang tersedia\n",
        "coloring_result = g.graph_coloring(m)\n",
        "\n",
        "if coloring_result:\n",
        "    for i, color in enumerate(coloring_result):\n",
        "        print(f\"Solution {i + 1}: {color}\")\n"
      ]
    },
    {
      "cell_type": "code",
      "source": [
        "pip install networkx\n"
      ],
      "metadata": {
        "colab": {
          "base_uri": "https://localhost:8080/"
        },
        "id": "5PtGnBfD5gw3",
        "outputId": "a424f3dd-31b5-440f-f196-2d6deba98ec0"
      },
      "execution_count": 7,
      "outputs": [
        {
          "output_type": "stream",
          "name": "stdout",
          "text": [
            "Requirement already satisfied: networkx in /usr/local/lib/python3.10/dist-packages (3.2.1)\n"
          ]
        }
      ]
    },
    {
      "cell_type": "markdown",
      "source": [
        "Dijkstra shortest path 1"
      ],
      "metadata": {
        "id": "_lyD9Gid7Ecs"
      }
    },
    {
      "cell_type": "code",
      "source": [
        "import networkx as nx\n",
        "import heapq\n",
        "\n",
        "def dijkstra(graph, start):\n",
        "    # Inisialisasi jarak awal ke setiap node sebagai tak terbatas\n",
        "    distances = {node: float('infinity') for node in graph.nodes()}\n",
        "\n",
        "    # Jarak dari start ke start adalah 0\n",
        "    distances[start] = 0\n",
        "\n",
        "    # Priority queue untuk menyimpan node-node yang akan dieksplorasi\n",
        "    priority_queue = [(0, start)]\n",
        "\n",
        "    while priority_queue:\n",
        "        current_distance, current_node = heapq.heappop(priority_queue)\n",
        "\n",
        "        # Jika jarak yang disimpan lebih kecil dari jarak sekarang, abaikan\n",
        "        if current_distance > distances[current_node]:\n",
        "            continue\n",
        "\n",
        "        # Periksa tetangga-tetangga dari node sekarang\n",
        "        for neighbor in graph.neighbors(current_node):\n",
        "            distance = current_distance + graph[current_node][neighbor]['weight']\n",
        "\n",
        "            # Jika jarak yang dihitung lebih kecil dari yang disimpan, update\n",
        "            if distance < distances[neighbor]:\n",
        "                distances[neighbor] = distance\n",
        "                heapq.heappush(priority_queue, (distance, neighbor))\n",
        "\n",
        "    return distances\n",
        "\n",
        "# Contoh penggunaan\n",
        "G = nx.Graph()\n",
        "G.add_edge('A', 'B', weight=4)\n",
        "G.add_edge('A', 'C', weight=2)\n",
        "G.add_edge('B', 'C', weight=5)\n",
        "G.add_edge('B', 'D', weight=10)\n",
        "G.add_edge('C', 'D', weight=3)\n",
        "\n",
        "start_node = 'A'\n",
        "shortest_distances = dijkstra(G, start_node)\n",
        "\n",
        "print(f\"Shortest distances from node {start_node}: {shortest_distances}\")\n"
      ],
      "metadata": {
        "colab": {
          "base_uri": "https://localhost:8080/"
        },
        "id": "fqkN2UWl5kef",
        "outputId": "0738253a-2d01-4434-ffac-837b206dea5d"
      },
      "execution_count": 8,
      "outputs": [
        {
          "output_type": "stream",
          "name": "stdout",
          "text": [
            "Shortest distances from node A: {'A': 0, 'B': 4, 'C': 2, 'D': 5}\n"
          ]
        }
      ]
    },
    {
      "cell_type": "markdown",
      "source": [
        "Algoritma Bellman–Ford"
      ],
      "metadata": {
        "id": "USouRUpp7Ncg"
      }
    },
    {
      "cell_type": "code",
      "source": [
        "class Graph:\n",
        "    def __init__(self, vertices):\n",
        "        self.vertices = vertices\n",
        "        self.edges = []\n",
        "\n",
        "    def add_edge(self, start, end, weight):\n",
        "        self.edges.append((start, end, weight))\n",
        "\n",
        "    def bellman_ford(self, start):\n",
        "        distances = {node: float('infinity') for node in range(self.vertices)}\n",
        "        distances[start] = 0\n",
        "\n",
        "        # Relax edges repeatedly\n",
        "        for _ in range(self.vertices - 1):\n",
        "            for start_node, end_node, weight in self.edges:\n",
        "                if distances[start_node] + weight < distances[end_node]:\n",
        "                    distances[end_node] = distances[start_node] + weight\n",
        "\n",
        "        # Check for negative-weight cycles\n",
        "        for start_node, end_node, weight in self.edges:\n",
        "            if distances[start_node] + weight < distances[end_node]:\n",
        "                print(\"Graph contains negative-weight cycle\")\n",
        "                return\n",
        "\n",
        "        return distances\n",
        "\n",
        "# Contoh penggunaan\n",
        "g = Graph(5)\n",
        "g.add_edge(0, 1, 6)\n",
        "g.add_edge(0, 3, 7)\n",
        "g.add_edge(1, 2, 5)\n",
        "g.add_edge(1, 3, 8)\n",
        "g.add_edge(1, 4, -4)\n",
        "g.add_edge(2, 1, -2)\n",
        "g.add_edge(3, 2, -3)\n",
        "g.add_edge(3, 4, 9)\n",
        "g.add_edge(4, 0, 2)\n",
        "g.add_edge(4, 2, 7)\n",
        "\n",
        "start_node = 0\n",
        "shortest_distances = g.bellman_ford(start_node)\n",
        "\n",
        "if shortest_distances:\n",
        "    print(f\"Shortest distances from node {start_node}: {shortest_distances}\")\n"
      ],
      "metadata": {
        "colab": {
          "base_uri": "https://localhost:8080/"
        },
        "id": "6L8MwXm866_-",
        "outputId": "04eb3545-34dd-4f06-cf7c-b0dfe625186e"
      },
      "execution_count": 10,
      "outputs": [
        {
          "output_type": "stream",
          "name": "stdout",
          "text": [
            "Shortest distances from node 0: {0: 0, 1: 2, 2: 4, 3: 7, 4: -2}\n"
          ]
        }
      ]
    }
  ]
}