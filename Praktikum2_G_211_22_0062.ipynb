{
  "nbformat": 4,
  "nbformat_minor": 0,
  "metadata": {
    "colab": {
      "provenance": [],
      "authorship_tag": "ABX9TyO2BdpQ1ZduFGZs5CkZs/Mj",
      "include_colab_link": true
    },
    "kernelspec": {
      "name": "python3",
      "display_name": "Python 3"
    },
    "language_info": {
      "name": "python"
    }
  },
  "cells": [
    {
      "cell_type": "markdown",
      "metadata": {
        "id": "view-in-github",
        "colab_type": "text"
      },
      "source": [
        "<a href=\"https://colab.research.google.com/github/hendy13/Praktek1_G.211.22.0062/blob/main/Praktikum2_G_211_22_0062.ipynb\" target=\"_parent\"><img src=\"https://colab.research.google.com/assets/colab-badge.svg\" alt=\"Open In Colab\"/></a>"
      ]
    },
    {
      "cell_type": "code",
      "execution_count": 6,
      "metadata": {
        "colab": {
          "base_uri": "https://localhost:8080/"
        },
        "id": "C7BbUAKJ-A6P",
        "outputId": "64e3dcb4-4ea2-4fa1-de69-8b1bf28aaabf"
      },
      "outputs": [
        {
          "output_type": "stream",
          "name": "stdout",
          "text": [
            "Isi tuple: ('Ganjil', 'Genap', 'Prima', 5, 6, 2)\n",
            "Elemen pertama: Ganjil\n",
            "Elemen ketiga: Prima\n",
            "Gabungan tuple: (4, 5, 6, 'x', 'y', 'z')\n",
            "Panjang tuple: 6\n",
            "Elemen-elemen tuple:\n",
            "4\n",
            "5\n",
            "6\n",
            "x\n",
            "y\n",
            "z\n",
            "z ada dalam tuple\n",
            "Setelah menghapus tuple : ('Negatif', 'Positif', 'Bulat', 5, 2)\n"
          ]
        }
      ],
      "source": [
        "# Membuat tuple\n",
        "my_tuple = ('Ganjil', 'Genap', 'Prima', 5, 6, 2)\n",
        "\n",
        "# Mengakses elemen tuple\n",
        "print(\"Isi tuple:\", my_tuple)\n",
        "print(\"Elemen pertama:\", my_tuple[0])\n",
        "print(\"Elemen ketiga:\", my_tuple[2])\n",
        "\n",
        "# Menggabungkan tuple\n",
        "tuple1 = (4, 5, 6)\n",
        "tuple2 = ('x', 'y', 'z')\n",
        "tuple3 = tuple1 + tuple2\n",
        "print(\"Gabungan tuple:\", tuple3)\n",
        "\n",
        "# Mengetahui panjang tuple\n",
        "print(\"Panjang tuple:\", len(tuple3))\n",
        "\n",
        "# Melakukan perulangan pada tuple\n",
        "print(\"Elemen-elemen tuple:\")\n",
        "for item in tuple3:\n",
        "    print(item)\n",
        "\n",
        "# Mengecek keanggotaan\n",
        "check_element = 'z'\n",
        "if check_element in tuple3:\n",
        "    print(f\"{check_element} ada dalam tuple\")\n",
        "else:\n",
        "    print(f\"{check_element} tidak ada dalam tuple\")\n",
        "\n",
        "# Menghapus tuple\n",
        "my_tuple = ('Ganjil', 'Genap', 'Prima', 5, 6, 2)\n",
        "\n",
        "del my_tuple\n",
        "\n",
        "my_tuple = ('Negatif', 'Positif', 'Bulat', 5, 2)\n",
        "print(\"Setelah menghapus tuple :\", my_tuple)"
      ]
    },
    {
      "cell_type": "code",
      "source": [
        "# Membuat dictionary\n",
        "my_dict = {'nama': 'Hendy', 'umur': 19, 'pekerjaan': 'Programmer', 'kota': 'Jakarta'}\n",
        "\n",
        "# Mengakses nilai dictionary\n",
        "print(\"Isi dictionary:\", my_dict)\n",
        "print(\"Nama:\", my_dict['nama'])\n",
        "print(\"Umur:\", my_dict['umur'])\n",
        "\n",
        "# Menambahkan elemen baru ke dictionary\n",
        "my_dict['jenis kelamin'] = 'Pria'\n",
        "print(\"Setelah menambah elemen baru:\", my_dict)\n",
        "\n",
        "# Mengubah nilai dalam dictionary\n",
        "my_dict['pekerjaan'] = 'front end'\n",
        "print(\"Setelah merubahan elemen:\", my_dict)\n",
        "\n",
        "# Menghapus elemen dari dictionary\n",
        "del my_dict['kota']\n",
        "print(\"Setelah menghapus elemen:\", my_dict)\n",
        "\n",
        "# Menggunakan perulangan pada dictionary\n",
        "print(\"Elemen-elemen dictionary:\")\n",
        "for key, value in my_dict.items():\n",
        "    print(f\"{key}: {value}\")\n",
        "\n",
        "# Mengecek keberadaan kunci dalam dictionary\n",
        "check_key = 'pekerjaan'\n",
        "if check_key in my_dict:\n",
        "    print(f\"{check_key} ada dalam dictionary\")\n",
        "else:\n",
        "    print(f\"{check_key} tidak ada dalam dictionary\")\n"
      ],
      "metadata": {
        "colab": {
          "base_uri": "https://localhost:8080/"
        },
        "id": "SCyDRkLWCz4P",
        "outputId": "602a96a0-8a92-42be-fdbe-69b27696c25d"
      },
      "execution_count": 5,
      "outputs": [
        {
          "output_type": "stream",
          "name": "stdout",
          "text": [
            "Isi dictionary: {'nama': 'Hendy', 'umur': 19, 'pekerjaan': 'Programmer', 'kota': 'Jakarta'}\n",
            "Nama: Hendy\n",
            "Umur: 19\n",
            "Setelah menambah elemen baru: {'nama': 'Hendy', 'umur': 19, 'pekerjaan': 'Programmer', 'kota': 'Jakarta', 'jenis kelamin': 'Pria'}\n",
            "Setelah merubahan elemen: {'nama': 'Hendy', 'umur': 19, 'pekerjaan': 'front end', 'kota': 'Jakarta', 'jenis kelamin': 'Pria'}\n",
            "Setelah menghapus elemen: {'nama': 'Hendy', 'umur': 19, 'pekerjaan': 'front end', 'jenis kelamin': 'Pria'}\n",
            "Elemen-elemen dictionary:\n",
            "nama: Hendy\n",
            "umur: 19\n",
            "pekerjaan: front end\n",
            "jenis kelamin: Pria\n",
            "pekerjaan ada dalam dictionary\n"
          ]
        }
      ]
    }
  ]
}