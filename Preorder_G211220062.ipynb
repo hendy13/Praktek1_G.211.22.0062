{
  "nbformat": 4,
  "nbformat_minor": 0,
  "metadata": {
    "colab": {
      "provenance": [],
      "include_colab_link": true
    },
    "kernelspec": {
      "name": "python3",
      "display_name": "Python 3"
    },
    "language_info": {
      "name": "python"
    }
  },
  "cells": [
    {
      "cell_type": "markdown",
      "metadata": {
        "id": "view-in-github",
        "colab_type": "text"
      },
      "source": [
        "<a href=\"https://colab.research.google.com/github/hendy13/Praktek1_G.211.22.0062/blob/main/Preorder_G211220062.ipynb\" target=\"_parent\"><img src=\"https://colab.research.google.com/assets/colab-badge.svg\" alt=\"Open In Colab\"/></a>"
      ]
    },
    {
      "cell_type": "code",
      "execution_count": null,
      "metadata": {
        "colab": {
          "base_uri": "https://localhost:8080/"
        },
        "id": "Aee1MJAd0CZM",
        "outputId": "97f63947-b83b-4916-ed7a-cd2a97d997d8"
      },
      "outputs": [
        {
          "output_type": "stream",
          "name": "stdout",
          "text": [
            "1\n",
            "2\n",
            "4\n",
            "5\n",
            "3\n"
          ]
        }
      ],
      "source": [
        "# Preorder Binary Tree\n",
        "class Node:\n",
        "  def __init__(self, key):\n",
        "    self.left = None\n",
        "    self.right = None\n",
        "    self.val = key\n",
        "\n",
        "# A function to do Preorder tree traversal\n",
        "def printPreorder(root):\n",
        "\n",
        "  if root:\n",
        "\n",
        "\n",
        "    print(root.val),\n",
        "\n",
        "\n",
        "    printPreorder(root.left)\n",
        "\n",
        "\n",
        "    printPreorder(root.right)\n",
        "\n",
        "# Driver code\n",
        "if __name__==\"__main__\":\n",
        "  root = Node(1)\n",
        "  root.left = Node(2)\n",
        "  root.right = Node(3)\n",
        "  root.left.left = Node(4)\n",
        "  root.left.right = Node(5)\n",
        "\n",
        "  # Function call\n",
        "  printend= \"Preorder traversal of binary tree is\"\n",
        "  printPreorder(root)"
      ]
    }
  ]
}