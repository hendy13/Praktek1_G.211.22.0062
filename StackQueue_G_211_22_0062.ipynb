{
  "nbformat": 4,
  "nbformat_minor": 0,
  "metadata": {
    "colab": {
      "provenance": [],
      "include_colab_link": true
    },
    "kernelspec": {
      "name": "python3",
      "display_name": "Python 3"
    },
    "language_info": {
      "name": "python"
    }
  },
  "cells": [
    {
      "cell_type": "markdown",
      "metadata": {
        "id": "view-in-github",
        "colab_type": "text"
      },
      "source": [
        "<a href=\"https://colab.research.google.com/github/hendy13/Praktek1_G.211.22.0062/blob/main/StackQueue_G_211_22_0062.ipynb\" target=\"_parent\"><img src=\"https://colab.research.google.com/assets/colab-badge.svg\" alt=\"Open In Colab\"/></a>"
      ]
    },
    {
      "cell_type": "markdown",
      "source": [
        "**ANTRIAN**"
      ],
      "metadata": {
        "id": "d4wDXvP0tpdf"
      }
    },
    {
      "cell_type": "code",
      "source": [
        "from collections import deque\n",
        "queue = deque([\"Ram\", \"Tarun\", \"Asif\", \"John\"])\n",
        "print(queue)\n",
        "queue.append(\"Akbar\")\n",
        "print(queue)\n",
        "queue.append(\"Birbal\")\n",
        "print(queue)\n",
        "print(queue.popleft())\n",
        "print(queue.popleft())\n",
        "print(queue)"
      ],
      "metadata": {
        "colab": {
          "base_uri": "https://localhost:8080/"
        },
        "id": "hQCZ_x2e0yJG",
        "outputId": "49bdca09-bd7b-4a53-e50c-c888fa2523c0"
      },
      "execution_count": null,
      "outputs": [
        {
          "output_type": "stream",
          "name": "stdout",
          "text": [
            "deque(['Ram', 'Tarun', 'Asif', 'John'])\n",
            "deque(['Ram', 'Tarun', 'Asif', 'John', 'Akbar'])\n",
            "deque(['Ram', 'Tarun', 'Asif', 'John', 'Akbar', 'Birbal'])\n",
            "Ram\n",
            "Tarun\n",
            "deque(['Asif', 'John', 'Akbar', 'Birbal'])\n"
          ]
        }
      ]
    },
    {
      "cell_type": "markdown",
      "source": [
        "**Tower Hanoi**"
      ],
      "metadata": {
        "id": "t7aMMDWR1mJO"
      }
    },
    {
      "cell_type": "code",
      "source": [
        "def TowerOfHanoi (n, dr, menuju, bantuan):\n",
        "    if n==0:\n",
        "      return\n",
        "    TowerOfHanoi(n-1, dr, bantuan, menuju)\n",
        "    print(\"Pindah disk\", n, \"dari\", dr, \"ke\", menuju)\n",
        "    TowerOfHanoi(n-1, bantuan, dr, menuju)\n",
        "\n",
        "# Driver code\n",
        "N = 3\n",
        "\n",
        "# A, C, B are the name of rods\n",
        "TowerOfHanoi(N, 'A', 'C', 'B')"
      ],
      "metadata": {
        "colab": {
          "base_uri": "https://localhost:8080/"
        },
        "id": "QOS-_V2_1VHB",
        "outputId": "472a3caf-ddef-4028-abca-d79414e1eb64"
      },
      "execution_count": null,
      "outputs": [
        {
          "output_type": "stream",
          "name": "stdout",
          "text": [
            "Pindah disk 1 dari A ke C\n",
            "Pindah disk 2 dari A ke B\n",
            "Pindah disk 1 dari C ke A\n",
            "Pindah disk 3 dari A ke C\n",
            "Pindah disk 1 dari B ke C\n",
            "Pindah disk 2 dari B ke A\n",
            "Pindah disk 1 dari C ke B\n"
          ]
        }
      ]
    },
    {
      "cell_type": "markdown",
      "source": [
        "**Mengurutkan Dalam Sebuah Stack**"
      ],
      "metadata": {
        "id": "0Lkr62Q-1uHG"
      }
    },
    {
      "cell_type": "code",
      "source": [
        "def sortStack(input):\n",
        "  tmpStack = []\n",
        "  while (len(input) > 0):\n",
        "      # pop out the first element\n",
        "      tmp = input[-1]\n",
        "      input.pop()\n",
        "\n",
        "      # while temporary stack is not empty\n",
        "      # and top of stack is smaller than temp\n",
        "      while (len(tmpStack) > 0 and tmpStack[-1] < tmp):\n",
        "\n",
        "          # pop temporary stack and\n",
        "          # append it to the input stack\n",
        "          input.append(tmpStack[-1])\n",
        "          tmpStack.pop()\n",
        "\n",
        "      # append temp in temporary of stack\n",
        "      tmpStack.append(tmp)\n",
        "\n",
        "  return tmpStack\n",
        "\n",
        "def sortArrayUsingStacks(arr, n):\n",
        "\n",
        "  # append array elements to stack\n",
        "  input = []\n",
        "  i = 0\n",
        "  while (i < n):\n",
        "    input.append(arr[i])\n",
        "    i = i + 1\n",
        "\n",
        "  # sort the temporary stack\n",
        "  tmpStack = sortStack(input)\n",
        "  i = 0\n",
        "\n",
        "  # put stack elements in arrp[]\n",
        "  while (i < n):\n",
        "    arr[i] = tmpStack[-1]\n",
        "    tmpStack.pop()\n",
        "    i = i + 1\n",
        "\n",
        "    return arr\n",
        "\n",
        "# Driver code\n",
        "arr = [10, 5, 15, 45]\n",
        "n = len(arr)\n",
        "\n",
        "arr = sortArrayUsingStacks(arr, n)\n",
        "i = 0\n",
        "\n",
        "while (i < n):\n",
        "  print(arr[i], end= \" \")\n",
        "  i = i + 1\n"
      ],
      "metadata": {
        "colab": {
          "base_uri": "https://localhost:8080/"
        },
        "id": "G3luIs4r18I3",
        "outputId": "86a7c46d-d066-4d76-a582-ee3e56d05fde"
      },
      "execution_count": null,
      "outputs": [
        {
          "output_type": "stream",
          "name": "stdout",
          "text": [
            "5 5 15 45 "
          ]
        }
      ]
    }
  ]
}