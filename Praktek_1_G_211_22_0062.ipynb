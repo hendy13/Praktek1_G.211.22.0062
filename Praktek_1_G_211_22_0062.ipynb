{
  "nbformat": 4,
  "nbformat_minor": 0,
  "metadata": {
    "colab": {
      "provenance": []
    },
    "kernelspec": {
      "name": "python3",
      "display_name": "Python 3"
    },
    "language_info": {
      "name": "python"
    }
  },
  "cells": [
    {
      "cell_type": "code",
      "execution_count": 6,
      "metadata": {
        "colab": {
          "base_uri": "https://localhost:8080/"
        },
        "id": "o7xBTABJt4y-",
        "outputId": "8127b4c1-74ff-4d8c-e5cc-986e06bd2561"
      },
      "outputs": [
        {
          "output_type": "stream",
          "name": "stdout",
          "text": [
            "Angka Ganjil : \n",
            " [1, 3, 5, 7, 9, 11, 13, 15, 17, 19]\n",
            "\n",
            "Jumlah Index angka ganjil (len) : \n",
            " 10\n",
            "\n",
            "Jumlah Nilai 7 Dalam List (count) : \n",
            " 1\n",
            "\n",
            "Menambah element dalam list (append) : \n",
            "Angka Ganjil :  [1, 3, 5, 7, 9, 11, 13, 15, 17, 19, 21, 23]\n",
            "\n",
            "Index ke 8 (index) : \n",
            " 4\n",
            "\n",
            "Tambah Angka Ganjil (Insert) : \n",
            " [1, 23, 3, 5, 7, 9, 11, 13, 15, 17, 19, 21, 23]\n",
            "\n",
            "Angka Ganjil (pop) : \n",
            " [1, 23, 3, 5, 7, 9, 11, 13, 15, 17, 19]\n",
            "\n",
            "Angka Ganjil (remove) : \n",
            " [1, 23, 7, 9, 11, 13, 15, 17, 19]\n",
            "\n",
            "Angka Ganjil (extend) : \n",
            " [1, 23, 7, 9, 11, 13, 15, 17, 19, 1, 23, 7, 9, 11, 13, 15, 17, 19]\n",
            "\n",
            "Angka Ganjil (reverse) : \n",
            " [19, 17, 15, 13, 11, 9, 7, 23, 1, 19, 17, 15, 13, 11, 9, 7, 23, 1]\n",
            "\n",
            "Angka Ganjil (sort) : \n",
            " [1, 1, 7, 7, 9, 9, 11, 11, 13, 13, 15, 15, 17, 17, 19, 19, 23, 23]\n",
            "\n",
            "Nilai Terbanyak (max) : \n",
            " 23\n",
            "\n",
            "Nilai terendah (min) : \n",
            " 1\n",
            "\n",
            "Total penjumlahan nilai dari angka_ganjil (sum) : \n",
            " 230\n"
          ]
        }
      ],
      "source": [
        "#Deklarasi List\n",
        "angka_ganjil = [1,3,5,7,9,11,13,15,17,19]\n",
        "#tampilkan list\n",
        "print(\"Angka Ganjil : \\n\",angka_ganjil)\n",
        "#menggunakan len\n",
        "print(\"\\nJumlah Index angka ganjil (len) : \\n\", len(angka_ganjil))\n",
        "#menggunakan count\n",
        "print(\"\\nJumlah Nilai 7 Dalam List (count) : \\n\", angka_ganjil.count(5))\n",
        "#Menggunakan append\n",
        "print(\"\\nMenambah element dalam list (append) : \")\n",
        "angka_ganjil.append(21)\n",
        "angka_ganjil.append(23)\n",
        "print(\"Angka Ganjil : \",angka_ganjil)\n",
        "#Menggunakan index\n",
        "print(\"\\nIndex ke 8 (index) : \\n\", angka_ganjil.index(9))\n",
        "#Menggunakan insert\n",
        "angka_ganjil.insert(1,23)\n",
        "print(\"\\nTambah Angka Ganjil (Insert) : \\n\", angka_ganjil)\n",
        "#Menggunakan pop\n",
        "angka_ganjil.pop()\n",
        "angka_ganjil.pop()\n",
        "print(\"\\nAngka Ganjil (pop) : \\n\",angka_ganjil)\n",
        "#Menggunakan remove\n",
        "angka_ganjil.remove(3)\n",
        "angka_ganjil.remove(5)\n",
        "print(\"\\nAngka Ganjil (remove) : \\n\", angka_ganjil)\n",
        "#Menggunakan extend\n",
        "angka_ganjil.extend(angka_ganjil)\n",
        "print(\"\\nAngka Ganjil (extend) : \\n\", angka_ganjil)\n",
        "#Menggunakan reverse\n",
        "angka_ganjil.reverse()\n",
        "print(\"\\nAngka Ganjil (reverse) : \\n\", angka_ganjil)\n",
        "#Menggunakan sort\n",
        "angka_ganjil.sort()\n",
        "print(\"\\nAngka Ganjil (sort) : \\n\", angka_ganjil)\n",
        "#Menggunakan Max\n",
        "print(\"\\nNilai Terbanyak (max) : \\n\", max(angka_ganjil))\n",
        "#Mengguankan min\n",
        "print(\"\\nNilai terendah (min) : \\n\", min(angka_ganjil))\n",
        "#Menggunakan Sum\n",
        "print(\"\\nTotal penjumlahan nilai dari angka_ganjil (sum) : \\n\",\n",
        "sum(angka_ganjil))"
      ]
    },
    {
      "cell_type": "code",
      "source": [],
      "metadata": {
        "id": "DysL6dctuAy8"
      },
      "execution_count": 6,
      "outputs": []
    }
  ]
}